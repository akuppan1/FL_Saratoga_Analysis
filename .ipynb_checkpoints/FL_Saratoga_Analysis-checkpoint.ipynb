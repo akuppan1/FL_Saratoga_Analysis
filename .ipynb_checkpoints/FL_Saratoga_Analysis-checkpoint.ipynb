{
 "cells": [
  {
   "cell_type": "code",
   "execution_count": 2,
   "metadata": {},
   "outputs": [],
   "source": [
    "import pandas as pd"
   ]
  },
  {
   "cell_type": "code",
   "execution_count": 3,
   "metadata": {},
   "outputs": [
    {
     "data": {
      "text/html": [
       "<div>\n",
       "<style scoped>\n",
       "    .dataframe tbody tr th:only-of-type {\n",
       "        vertical-align: middle;\n",
       "    }\n",
       "\n",
       "    .dataframe tbody tr th {\n",
       "        vertical-align: top;\n",
       "    }\n",
       "\n",
       "    .dataframe thead th {\n",
       "        text-align: right;\n",
       "    }\n",
       "</style>\n",
       "<table border=\"1\" class=\"dataframe\">\n",
       "  <thead>\n",
       "    <tr style=\"text-align: right;\">\n",
       "      <th></th>\n",
       "      <th>LANDUSECODE</th>\n",
       "      <th>ACREAGE</th>\n",
       "      <th>LASTUPDATE</th>\n",
       "    </tr>\n",
       "  </thead>\n",
       "  <tbody>\n",
       "    <tr>\n",
       "      <th>0</th>\n",
       "      <td>MR-2</td>\n",
       "      <td>102.31</td>\n",
       "      <td>2021/08/13 18:34:16+00</td>\n",
       "    </tr>\n",
       "    <tr>\n",
       "      <th>1</th>\n",
       "      <td>MR-2</td>\n",
       "      <td>23.83</td>\n",
       "      <td>2020/02/07 21:12:12+00</td>\n",
       "    </tr>\n",
       "    <tr>\n",
       "      <th>2</th>\n",
       "      <td>MR-2</td>\n",
       "      <td>28.50</td>\n",
       "      <td>2020/02/07 21:12:12+00</td>\n",
       "    </tr>\n",
       "    <tr>\n",
       "      <th>3</th>\n",
       "      <td>MR-1</td>\n",
       "      <td>107.77</td>\n",
       "      <td>2020/02/07 21:12:12+00</td>\n",
       "    </tr>\n",
       "    <tr>\n",
       "      <th>4</th>\n",
       "      <td>SF-VL</td>\n",
       "      <td>3.90</td>\n",
       "      <td>2020/02/07 21:12:12+00</td>\n",
       "    </tr>\n",
       "    <tr>\n",
       "      <th>...</th>\n",
       "      <td>...</td>\n",
       "      <td>...</td>\n",
       "      <td>...</td>\n",
       "    </tr>\n",
       "    <tr>\n",
       "      <th>1903</th>\n",
       "      <td>CC</td>\n",
       "      <td>NaN</td>\n",
       "      <td>2020/09/11 15:30:22+00</td>\n",
       "    </tr>\n",
       "    <tr>\n",
       "      <th>1904</th>\n",
       "      <td>CC</td>\n",
       "      <td>NaN</td>\n",
       "      <td>2020/09/11 15:32:38+00</td>\n",
       "    </tr>\n",
       "    <tr>\n",
       "      <th>1905</th>\n",
       "      <td>NO</td>\n",
       "      <td>2.47</td>\n",
       "      <td>2021/08/25 15:29:59+00</td>\n",
       "    </tr>\n",
       "    <tr>\n",
       "      <th>1906</th>\n",
       "      <td>COI</td>\n",
       "      <td>1.99</td>\n",
       "      <td>2021/11/18 19:34:52+00</td>\n",
       "    </tr>\n",
       "    <tr>\n",
       "      <th>1907</th>\n",
       "      <td>COI</td>\n",
       "      <td>1.80</td>\n",
       "      <td>2021/11/18 19:34:52+00</td>\n",
       "    </tr>\n",
       "  </tbody>\n",
       "</table>\n",
       "<p>1908 rows × 3 columns</p>\n",
       "</div>"
      ],
      "text/plain": [
       "     LANDUSECODE  ACREAGE              LASTUPDATE\n",
       "0           MR-2   102.31  2021/08/13 18:34:16+00\n",
       "1           MR-2    23.83  2020/02/07 21:12:12+00\n",
       "2           MR-2    28.50  2020/02/07 21:12:12+00\n",
       "3           MR-1   107.77  2020/02/07 21:12:12+00\n",
       "4          SF-VL     3.90  2020/02/07 21:12:12+00\n",
       "...          ...      ...                     ...\n",
       "1903          CC      NaN  2020/09/11 15:30:22+00\n",
       "1904          CC      NaN  2020/09/11 15:32:38+00\n",
       "1905          NO     2.47  2021/08/25 15:29:59+00\n",
       "1906         COI     1.99  2021/11/18 19:34:52+00\n",
       "1907         COI     1.80  2021/11/18 19:34:52+00\n",
       "\n",
       "[1908 rows x 3 columns]"
      ]
     },
     "execution_count": 3,
     "metadata": {},
     "output_type": "execute_result"
    }
   ],
   "source": [
    "df_FL = pd.read_csv(\"Saratoga_FL_Future_Land_Use.csv\", usecols = ['LANDUSECODE','ACREAGE', 'LASTUPDATE'])\n",
    "df_FL"
   ]
  },
  {
   "cell_type": "code",
   "execution_count": 4,
   "metadata": {},
   "outputs": [
    {
     "name": "stdout",
     "output_type": "stream",
     "text": [
      "<class 'pandas.core.frame.DataFrame'>\n",
      "RangeIndex: 1908 entries, 0 to 1907\n",
      "Data columns (total 3 columns):\n",
      " #   Column       Non-Null Count  Dtype  \n",
      "---  ------       --------------  -----  \n",
      " 0   LANDUSECODE  1908 non-null   object \n",
      " 1   ACREAGE      1905 non-null   float64\n",
      " 2   LASTUPDATE   1908 non-null   object \n",
      "dtypes: float64(1), object(2)\n",
      "memory usage: 44.8+ KB\n"
     ]
    }
   ],
   "source": [
    "# I want to see what NaNs are there\n",
    "df_FL.info()"
   ]
  },
  {
   "cell_type": "code",
   "execution_count": 5,
   "metadata": {},
   "outputs": [
    {
     "data": {
      "text/html": [
       "<div>\n",
       "<style scoped>\n",
       "    .dataframe tbody tr th:only-of-type {\n",
       "        vertical-align: middle;\n",
       "    }\n",
       "\n",
       "    .dataframe tbody tr th {\n",
       "        vertical-align: top;\n",
       "    }\n",
       "\n",
       "    .dataframe thead th {\n",
       "        text-align: right;\n",
       "    }\n",
       "</style>\n",
       "<table border=\"1\" class=\"dataframe\">\n",
       "  <thead>\n",
       "    <tr style=\"text-align: right;\">\n",
       "      <th></th>\n",
       "      <th>index</th>\n",
       "      <th>LANDUSECODE</th>\n",
       "      <th>ACREAGE</th>\n",
       "      <th>LASTUPDATE</th>\n",
       "    </tr>\n",
       "  </thead>\n",
       "  <tbody>\n",
       "    <tr>\n",
       "      <th>0</th>\n",
       "      <td>0</td>\n",
       "      <td>MR-2</td>\n",
       "      <td>102.31</td>\n",
       "      <td>2021/08/13 18:34:16+00</td>\n",
       "    </tr>\n",
       "    <tr>\n",
       "      <th>1</th>\n",
       "      <td>1</td>\n",
       "      <td>MR-2</td>\n",
       "      <td>23.83</td>\n",
       "      <td>2020/02/07 21:12:12+00</td>\n",
       "    </tr>\n",
       "    <tr>\n",
       "      <th>2</th>\n",
       "      <td>2</td>\n",
       "      <td>MR-2</td>\n",
       "      <td>28.50</td>\n",
       "      <td>2020/02/07 21:12:12+00</td>\n",
       "    </tr>\n",
       "    <tr>\n",
       "      <th>3</th>\n",
       "      <td>3</td>\n",
       "      <td>MR-1</td>\n",
       "      <td>107.77</td>\n",
       "      <td>2020/02/07 21:12:12+00</td>\n",
       "    </tr>\n",
       "    <tr>\n",
       "      <th>4</th>\n",
       "      <td>4</td>\n",
       "      <td>SF-VL</td>\n",
       "      <td>3.90</td>\n",
       "      <td>2020/02/07 21:12:12+00</td>\n",
       "    </tr>\n",
       "    <tr>\n",
       "      <th>...</th>\n",
       "      <td>...</td>\n",
       "      <td>...</td>\n",
       "      <td>...</td>\n",
       "      <td>...</td>\n",
       "    </tr>\n",
       "    <tr>\n",
       "      <th>1900</th>\n",
       "      <td>1900</td>\n",
       "      <td>SF-LOW</td>\n",
       "      <td>0.00</td>\n",
       "      <td>2020/02/07 21:12:12+00</td>\n",
       "    </tr>\n",
       "    <tr>\n",
       "      <th>1901</th>\n",
       "      <td>1901</td>\n",
       "      <td>COI</td>\n",
       "      <td>1.35</td>\n",
       "      <td>2020/02/07 21:12:12+00</td>\n",
       "    </tr>\n",
       "    <tr>\n",
       "      <th>1902</th>\n",
       "      <td>1905</td>\n",
       "      <td>NO</td>\n",
       "      <td>2.47</td>\n",
       "      <td>2021/08/25 15:29:59+00</td>\n",
       "    </tr>\n",
       "    <tr>\n",
       "      <th>1903</th>\n",
       "      <td>1906</td>\n",
       "      <td>COI</td>\n",
       "      <td>1.99</td>\n",
       "      <td>2021/11/18 19:34:52+00</td>\n",
       "    </tr>\n",
       "    <tr>\n",
       "      <th>1904</th>\n",
       "      <td>1907</td>\n",
       "      <td>COI</td>\n",
       "      <td>1.80</td>\n",
       "      <td>2021/11/18 19:34:52+00</td>\n",
       "    </tr>\n",
       "  </tbody>\n",
       "</table>\n",
       "<p>1905 rows × 4 columns</p>\n",
       "</div>"
      ],
      "text/plain": [
       "      index LANDUSECODE  ACREAGE              LASTUPDATE\n",
       "0         0        MR-2   102.31  2021/08/13 18:34:16+00\n",
       "1         1        MR-2    23.83  2020/02/07 21:12:12+00\n",
       "2         2        MR-2    28.50  2020/02/07 21:12:12+00\n",
       "3         3        MR-1   107.77  2020/02/07 21:12:12+00\n",
       "4         4       SF-VL     3.90  2020/02/07 21:12:12+00\n",
       "...     ...         ...      ...                     ...\n",
       "1900   1900      SF-LOW     0.00  2020/02/07 21:12:12+00\n",
       "1901   1901         COI     1.35  2020/02/07 21:12:12+00\n",
       "1902   1905          NO     2.47  2021/08/25 15:29:59+00\n",
       "1903   1906         COI     1.99  2021/11/18 19:34:52+00\n",
       "1904   1907         COI     1.80  2021/11/18 19:34:52+00\n",
       "\n",
       "[1905 rows x 4 columns]"
      ]
     },
     "execution_count": 5,
     "metadata": {},
     "output_type": "execute_result"
    }
   ],
   "source": [
    "df_FL.dropna(axis=0).reset_index()"
   ]
  },
  {
   "cell_type": "code",
   "execution_count": 6,
   "metadata": {},
   "outputs": [
    {
     "data": {
      "text/plain": [
       "SF-LOW      525\n",
       "SF-VL       275\n",
       "EDGE        201\n",
       "CC          134\n",
       "COI         133\n",
       "MF-MOD      107\n",
       "CORE         97\n",
       "OPEN         81\n",
       "MF-MED       67\n",
       "UN           57\n",
       "PIC          56\n",
       "BAYFRONT     43\n",
       "NO           42\n",
       "MIXED        24\n",
       "NC           14\n",
       "MR-8          7\n",
       "MR-7          7\n",
       "MR-2          7\n",
       "MR-4          7\n",
       "MR-6          5\n",
       "MR-3          4\n",
       "MR-5          4\n",
       "RR            3\n",
       "MR-10         3\n",
       "MR-1          2\n",
       "FLUM          1\n",
       "MR-9          1\n",
       "              1\n",
       "Name: LANDUSECODE, dtype: int64"
      ]
     },
     "execution_count": 6,
     "metadata": {},
     "output_type": "execute_result"
    }
   ],
   "source": [
    "df_FL['LANDUSECODE'].value_counts()"
   ]
  },
  {
   "cell_type": "code",
   "execution_count": 7,
   "metadata": {},
   "outputs": [
    {
     "data": {
      "text/plain": [
       "<AxesSubplot:title={'center':'Land Use Codes for Future Projects in Saratoga FL'}>"
      ]
     },
     "execution_count": 7,
     "metadata": {},
     "output_type": "execute_result"
    },
    {
     "data": {
      "image/png": "[encoded data removed]",
      "text/plain": [
       "<Figure size 432x288 with 1 Axes>"
      ]
     },
     "metadata": {
      "needs_background": "light"
     },
     "output_type": "display_data"
    }
   ],
   "source": [
    "df_FL['LANDUSECODE'].value_counts().plot(kind='bar', title='Land Use Codes for Future Projects in Saratoga FL')"
   ]
  },
  {
   "cell_type": "code",
   "execution_count": 8,
   "metadata": {},
   "outputs": [
    {
     "data": {
      "text/plain": [
       "count    1905.000000\n",
       "mean        4.425980\n",
       "std         9.596217\n",
       "min         0.000000\n",
       "25%         1.070000\n",
       "50%         2.240000\n",
       "75%         3.940000\n",
       "max       150.130000\n",
       "Name: ACREAGE, dtype: float64"
      ]
     },
     "execution_count": 8,
     "metadata": {},
     "output_type": "execute_result"
    }
   ],
   "source": [
    "df_FL['ACREAGE'].describe()"
   ]
  },
  {
   "cell_type": "code",
   "execution_count": 9,
   "metadata": {},
   "outputs": [],
   "source": [
    "# df_FL['ACREAGE']\n",
    "bins = [0, 10, 20, 30, 40, 50, 60, 70, 80, 90, 100, 150]\n",
    "df_FL['ACREAGE_binned'] = pd.cut(df_FL['ACREAGE'], bins)"
   ]
  },
  {
   "cell_type": "code",
   "execution_count": 10,
   "metadata": {},
   "outputs": [
    {
     "data": {
      "text/html": [
       "<div>\n",
       "<style scoped>\n",
       "    .dataframe tbody tr th:only-of-type {\n",
       "        vertical-align: middle;\n",
       "    }\n",
       "\n",
       "    .dataframe tbody tr th {\n",
       "        vertical-align: top;\n",
       "    }\n",
       "\n",
       "    .dataframe thead th {\n",
       "        text-align: right;\n",
       "    }\n",
       "</style>\n",
       "<table border=\"1\" class=\"dataframe\">\n",
       "  <thead>\n",
       "    <tr style=\"text-align: right;\">\n",
       "      <th></th>\n",
       "      <th>LANDUSECODE</th>\n",
       "      <th>ACREAGE</th>\n",
       "      <th>LASTUPDATE</th>\n",
       "      <th>ACREAGE_binned</th>\n",
       "    </tr>\n",
       "  </thead>\n",
       "  <tbody>\n",
       "    <tr>\n",
       "      <th>0</th>\n",
       "      <td>MR-2</td>\n",
       "      <td>102.31</td>\n",
       "      <td>2021/08/13 18:34:16+00</td>\n",
       "      <td>(100, 150]</td>\n",
       "    </tr>\n",
       "    <tr>\n",
       "      <th>1</th>\n",
       "      <td>MR-2</td>\n",
       "      <td>23.83</td>\n",
       "      <td>2020/02/07 21:12:12+00</td>\n",
       "      <td>(20, 30]</td>\n",
       "    </tr>\n",
       "    <tr>\n",
       "      <th>2</th>\n",
       "      <td>MR-2</td>\n",
       "      <td>28.50</td>\n",
       "      <td>2020/02/07 21:12:12+00</td>\n",
       "      <td>(20, 30]</td>\n",
       "    </tr>\n",
       "    <tr>\n",
       "      <th>3</th>\n",
       "      <td>MR-1</td>\n",
       "      <td>107.77</td>\n",
       "      <td>2020/02/07 21:12:12+00</td>\n",
       "      <td>(100, 150]</td>\n",
       "    </tr>\n",
       "    <tr>\n",
       "      <th>4</th>\n",
       "      <td>SF-VL</td>\n",
       "      <td>3.90</td>\n",
       "      <td>2020/02/07 21:12:12+00</td>\n",
       "      <td>(0, 10]</td>\n",
       "    </tr>\n",
       "    <tr>\n",
       "      <th>...</th>\n",
       "      <td>...</td>\n",
       "      <td>...</td>\n",
       "      <td>...</td>\n",
       "      <td>...</td>\n",
       "    </tr>\n",
       "    <tr>\n",
       "      <th>1893</th>\n",
       "      <td>CORE</td>\n",
       "      <td>9.58</td>\n",
       "      <td>2020/02/07 21:12:12+00</td>\n",
       "      <td>(0, 10]</td>\n",
       "    </tr>\n",
       "    <tr>\n",
       "      <th>1894</th>\n",
       "      <td>COI</td>\n",
       "      <td>1.35</td>\n",
       "      <td>2020/02/07 21:12:12+00</td>\n",
       "      <td>(0, 10]</td>\n",
       "    </tr>\n",
       "    <tr>\n",
       "      <th>1895</th>\n",
       "      <td>NO</td>\n",
       "      <td>2.47</td>\n",
       "      <td>2021/08/25 15:29:59+00</td>\n",
       "      <td>(0, 10]</td>\n",
       "    </tr>\n",
       "    <tr>\n",
       "      <th>1896</th>\n",
       "      <td>COI</td>\n",
       "      <td>1.99</td>\n",
       "      <td>2021/11/18 19:34:52+00</td>\n",
       "      <td>(0, 10]</td>\n",
       "    </tr>\n",
       "    <tr>\n",
       "      <th>1897</th>\n",
       "      <td>COI</td>\n",
       "      <td>1.80</td>\n",
       "      <td>2021/11/18 19:34:52+00</td>\n",
       "      <td>(0, 10]</td>\n",
       "    </tr>\n",
       "  </tbody>\n",
       "</table>\n",
       "<p>1898 rows × 4 columns</p>\n",
       "</div>"
      ],
      "text/plain": [
       "     LANDUSECODE  ACREAGE              LASTUPDATE ACREAGE_binned\n",
       "0           MR-2   102.31  2021/08/13 18:34:16+00     (100, 150]\n",
       "1           MR-2    23.83  2020/02/07 21:12:12+00       (20, 30]\n",
       "2           MR-2    28.50  2020/02/07 21:12:12+00       (20, 30]\n",
       "3           MR-1   107.77  2020/02/07 21:12:12+00     (100, 150]\n",
       "4          SF-VL     3.90  2020/02/07 21:12:12+00        (0, 10]\n",
       "...          ...      ...                     ...            ...\n",
       "1893        CORE     9.58  2020/02/07 21:12:12+00        (0, 10]\n",
       "1894         COI     1.35  2020/02/07 21:12:12+00        (0, 10]\n",
       "1895          NO     2.47  2021/08/25 15:29:59+00        (0, 10]\n",
       "1896         COI     1.99  2021/11/18 19:34:52+00        (0, 10]\n",
       "1897         COI     1.80  2021/11/18 19:34:52+00        (0, 10]\n",
       "\n",
       "[1898 rows x 4 columns]"
      ]
     },
     "execution_count": 10,
     "metadata": {},
     "output_type": "execute_result"
    }
   ],
   "source": [
    "df_FL.dropna(inplace=True)\n",
    "df_FL.reset_index(inplace=True)\n",
    "df_FL.drop(columns=['index'])"
   ]
  },
  {
   "cell_type": "code",
   "execution_count": 11,
   "metadata": {},
   "outputs": [
    {
     "data": {
      "text/plain": [
       "<AxesSubplot:title={'center':'Saratoga Agreage Future Land Use'}>"
      ]
     },
     "execution_count": 11,
     "metadata": {},
     "output_type": "execute_result"
    },
    {
     "data": {
      "image/png": "[encoded data removed]",
      "text/plain": [
       "<Figure size 432x288 with 1 Axes>"
      ]
     },
     "metadata": {
      "needs_background": "light"
     },
     "output_type": "display_data"
    }
   ],
   "source": [
    "# df_FL['ACREAGE_binned'].plot(kind='hist')\n",
    "\n",
    "df_FL['ACREAGE_binned'].value_counts().plot(kind='bar', x='ACREAGE RANGES', y='FREQUENCY',title='Saratoga Agreage Future Land Use' )"
   ]
  },
  {
   "cell_type": "code",
   "execution_count": 12,
   "metadata": {},
   "outputs": [],
   "source": [
    "df_FL_ACREAGE_0_10 = df_FL[df_FL['ACREAGE'] < 10]\n"
   ]
  },
  {
   "cell_type": "code",
   "execution_count": 13,
   "metadata": {},
   "outputs": [
    {
     "data": {
      "text/plain": [
       "<AxesSubplot:title={'center':'Saratoga Agreage Future Land Use'}>"
      ]
     },
     "execution_count": 13,
     "metadata": {},
     "output_type": "execute_result"
    },
    {
     "data": {
      "image/png": "[encoded data removed]",
      "text/plain": [
       "<Figure size 432x288 with 1 Axes>"
      ]
     },
     "metadata": {
      "needs_background": "light"
     },
     "output_type": "display_data"
    }
   ],
   "source": [
    "df_FL_ACREAGE_0_10['ACREAGE'].value_counts().plot(kind='bar', x='ACREAGE RANGES', y='FREQUENCY',title='Saratoga Agreage Future Land Use' )"
   ]
  },
  {
   "cell_type": "code",
   "execution_count": 14,
   "metadata": {},
   "outputs": [
    {
     "data": {
      "text/plain": [
       "<AxesSubplot:ylabel='Frequency'>"
      ]
     },
     "execution_count": 14,
     "metadata": {},
     "output_type": "execute_result"
    },
    {
     "data": {
      "image/png": "[encoded data removed]",
      "text/plain": [
       "<Figure size 432x288 with 1 Axes>"
      ]
     },
     "metadata": {
      "needs_background": "light"
     },
     "output_type": "display_data"
    }
   ],
   "source": [
    "df_FL_ACREAGE_0_10['ACREAGE'].value_counts().plot(kind='hist', bins=9)"
   ]
  },
  {
   "cell_type": "code",
   "execution_count": 15,
   "metadata": {},
   "outputs": [
    {
     "data": {
      "text/plain": [
       "2.99    13\n",
       "0.48    12\n",
       "0.96    12\n",
       "3.72    11\n",
       "0.24    11\n",
       "        ..\n",
       "6.10     1\n",
       "1.62     1\n",
       "3.35     1\n",
       "9.42     1\n",
       "8.78     1\n",
       "Name: ACREAGE, Length: 595, dtype: int64"
      ]
     },
     "execution_count": 15,
     "metadata": {},
     "output_type": "execute_result"
    }
   ],
   "source": [
    "df_FL_ACREAGE_0_10['ACREAGE'].value_counts()"
   ]
  },
  {
   "cell_type": "code",
   "execution_count": 16,
   "metadata": {},
   "outputs": [
    {
     "data": {
      "text/plain": [
       "<AxesSubplot:title={'center':'ACREAGE FREQUENCY'}, ylabel='Frequency'>"
      ]
     },
     "execution_count": 16,
     "metadata": {},
     "output_type": "execute_result"
    },
    {
     "data": {
      "image/png": "[encoded data removed]",
      "text/plain": [
       "<Figure size 432x288 with 1 Axes>"
      ]
     },
     "metadata": {
      "needs_background": "light"
     },
     "output_type": "display_data"
    }
   ],
   "source": [
    "df_FL_ACREAGE_0_10['ACREAGE'].plot(kind='hist', title='ACREAGE FREQUENCY')"
   ]
  },
  {
   "cell_type": "code",
   "execution_count": null,
   "metadata": {},
   "outputs": [],
   "source": []
  }
 ],
 "metadata": {
  "kernelspec": {
   "display_name": "Python 3",
   "language": "python",
   "name": "python3"
  },
  "language_info": {
   "codemirror_mode": {
    "name": "ipython",
    "version": 3
   },
   "file_extension": ".py",
   "mimetype": "text/x-python",
   "name": "python",
   "nbconvert_exporter": "python",
   "pygments_lexer": "ipython3",
   "version": "3.8.5"
  }
 },
 "nbformat": 4,
 "nbformat_minor": 4
}
